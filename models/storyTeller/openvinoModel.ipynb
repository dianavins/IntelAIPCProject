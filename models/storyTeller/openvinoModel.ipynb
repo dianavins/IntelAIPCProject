{
 "cells": [
  {
   "cell_type": "markdown",
   "metadata": {},
   "source": [
    "### LOAD MODEL"
   ]
  },
  {
   "cell_type": "code",
   "execution_count": 2,
   "metadata": {},
   "outputs": [
    {
     "name": "stdout",
     "output_type": "stream",
     "text": [
      "Loading model from ./phi-3-mini-instruct/INT4_compressed_weights\n"
     ]
    },
    {
     "name": "stderr",
     "output_type": "stream",
     "text": [
      "Compiling the model to CPU ...\n"
     ]
    }
   ],
   "source": [
    "from transformers import AutoConfig, AutoTokenizer\n",
    "from optimum.intel.openvino import OVModelForCausalLM\n",
    "from llm_config import SUPPORTED_LLM_MODELS\n",
    "\n",
    "model_configuration = SUPPORTED_LLM_MODELS[\"English\"][\"phi-3-mini-instruct\"]\n",
    "\n",
    "model_dir = \"./phi-3-mini-instruct/INT4_compressed_weights\"\n",
    "print(f\"Loading model from {model_dir}\")\n",
    "\n",
    "ov_config = {\"PERFORMANCE_HINT\": \"LATENCY\", \"NUM_STREAMS\": \"1\", \"CACHE_DIR\": \"\"}\n",
    "\n",
    "# if \"GPU\" in device.value and \"qwen2-7b-instruct\" in model_id.value:\n",
    "#     ov_config[\"GPU_ENABLE_SDPA_OPTIMIZATION\"] = \"NO\"\n",
    "\n",
    "# On a GPU device a model is executed in FP16 precision. For red-pajama-3b-chat model there known accuracy\n",
    "# issues caused by this, which we avoid by setting precision hint to \"f32\".\n",
    "# if model_id.value == \"red-pajama-3b-chat\" and \"GPU\" in core.available_devices and device.value in [\"GPU\", \"AUTO\"]:\n",
    "#     ov_config[\"INFERENCE_PRECISION_HINT\"] = \"f32\"\n",
    "\n",
    "model_name = model_configuration[\"model_id\"]\n",
    "tok = AutoTokenizer.from_pretrained(model_dir, trust_remote_code=True)\n",
    "\n",
    "ov_model = OVModelForCausalLM.from_pretrained(\n",
    "    model_dir,\n",
    "    device=\"CPU\",\n",
    "    ov_config=ov_config,\n",
    "    config=AutoConfig.from_pretrained(model_dir, trust_remote_code=True),\n",
    "    trust_remote_code=True,\n",
    ")"
   ]
  },
  {
   "cell_type": "code",
   "execution_count": 3,
   "metadata": {},
   "outputs": [
    {
     "name": "stderr",
     "output_type": "stream",
     "text": [
      "c:\\Users\\intelaipc\\miniforge3\\envs\\openvino2\\Lib\\site-packages\\transformers\\generation\\utils.py:1259: UserWarning: Using the model-agnostic default `max_length` (=20) to control the generation length. We recommend setting `max_new_tokens` to control the maximum length of the generation.\n",
      "  warnings.warn(\n"
     ]
    },
    {
     "name": "stdout",
     "output_type": "stream",
     "text": [
      "Generated Text: Hello, how are you doing today? I'm doing well, thank you for asking. I\n"
     ]
    }
   ],
   "source": [
    "# Example text to be processed\n",
    "input_text = \"Hello, how are you doing today?\"\n",
    "\n",
    "# Tokenize the text\n",
    "inputs = tok(input_text, return_tensors=\"pt\")\n",
    "\n",
    "# Perform inference\n",
    "outputs = ov_model.generate(**inputs)\n",
    "\n",
    "# Decode the generated tokens to text\n",
    "decoded_output = tok.decode(outputs[0], skip_special_tokens=True)\n",
    "print(\"Generated Text:\", decoded_output)"
   ]
  },
  {
   "cell_type": "markdown",
   "metadata": {},
   "source": [
    "### MULTI SHOT LEARNING: STORY TELLING"
   ]
  },
  {
   "cell_type": "code",
   "execution_count": null,
   "metadata": {},
   "outputs": [],
   "source": [
    "def generate_response_x(prompt, examples):\n",
    "    # Combine examples with the prompt\n",
    "    formatted_prompt = \"\".join([f\"{ex['input']}: {ex['output']}\\n\" for ex in examples]) + prompt\n",
    "    responses = pipeline(formatted_prompt, max_new_tokens=100, num_return_sequences=1)\n",
    "    return responses[0][\"generated_text\"]\n",
    "\n",
    "# Example usage. examples taken from https://huggingface.co/datasets/ajibawa-2023/Children-Stories-Collection\n",
    "examples = [\n",
    "    {\"input\": \"Write an educational story (3-5 paragraphs) targeted at young children using simple words. The story should be inspired from this text snippet: {}. The story should have the following features: - Science integration: embed basic science concepts within the story, explaining them through the characters' adventures and discoveries. - Characters and dialogue: create memorable characters who engage in meaningful conversations, helping to explain and explore the science concepts. - Unexpected twist: conclude with a twist that doesn't resolve as hoped, but leaves a clear lesson about life and science.\", \"output\": \"Once upon a time in the land of Policymia, there lived two leaders named Majora and Minoro. Their job was to make sure all the citizens had beautiful parks, clean water, and top-notch schools. But there were so many things to fix! How would they ever decide where to start? Majora, being the wise leader she was, knew just what to do. She invited her fellow policymakers for a big meeting at the Roundtable of Representatives. There, they discussed the most important problems Policymia faced. This was called identifying 'key policy areas.' It meant figuring out which topics needed attention first. Next came assessing support – finding out if everyone agreed on the solutions. Some people thought building more playgrounds was the way to go, while others wanted better libraries. To understand everyone's thoughts, Majora used something called 'polling.' Just like taking a vote, polling helped her see what ideas were popular among her friends (the majority) and also those across the aisle (people who didn't belong to her political group). While talking to her friends and colleagues, Majora discovered that almost everyone loved science! And why not? Science could help create amazing inventions, protect nature, and even cure sicknesses. So, the policymakers decided to build a super cool SCIENCE CENTER right at the heart of Policymia! But then, an unexpected problem popped up! A grumpy neighboring kingdom threatened to block Policymia's plans because they feared losing visitors to the new center. Oh no! However, instead of giving up, Majora saw this challenge as an opportunity. If they could work together with the grumpy neighbors, maybe both lands could benefit. That way, everybody wins, showing the true spirit of teamwork and collaboration in the world of policies!\"},\n",
    "    {\"input\": \"Write an educational story (3-5 paragraphs) targeted at young children using simple words. The story should be inspired from this text snippet: {}. The story should have the following features: - Science integration: embed basic science concepts within the story, explaining them through the characters' adventures and discoveries. - Characters and dialogue: create memorable characters who engage in meaningful conversations, helping to explain and explore the science concepts. - Unexpected twist: conclude with a twist that doesn't resolve as hoped, but leaves a clear lesson about life and science.\", \"output\": \"In the heart of Harmonyville, nestled between two neighboring countries, lay a magnificent bridge. Not only did it connect the land masses, but it also joined hearts and minds of folks living on either side. Let's call our beloved structure 'The Friendship Bridge'. One bright morning, Sarah from Sunnyhill and Maria from Starshine decided to explore this marvelous architectural feat. As they skipped along its vibrant pathway adorned with multicolored flags fluttering cheerily, Sarah asked, 'Maria, do you know how bridges stand strong despite all the cars going over them?' With a curious smile, Maria replied, 'Well, I think it has something to do with physics! Bridges use different types of forces like tension, compression, and torsion to balance themselves out.' Sarah gasped, 'Wow! That sounds complicated. But then again,' she pointed towards the distant mountains, 'those tall peaks must face greater force by wind and snow. Yet, they stand firm too!' As the day wore on, they reached the middle of the bridge where an information kiosk stood proudly. There, they learned about the various parts of the bridge – abutments, piers, deck, trusses...it seemed almost alive! Each part played a crucial role just like cells in our bodies. Just when things couldn't get any better, dark clouds rolled in unexpectedly. Rain began pouring down drenching everyone including Sarah and Maria. Their excitement turned into worry as they realized they might not make it back home before dark. Suddenly, the once familiar route appeared ominous under the stormy sky. Despite being scared, they remembered what they had learned earlier. Just like structures need balance and harmony, so does nature. So instead of panicking, they took deep breaths calming themselves down. After all, even amidst turmoil, understanding science can bring clarity and peace. And sometimes, facing adversities hand-in-hand brings forth stronger friendships.\"},\n",
    "]\n",
    "prompt = \"Write an educational story (3-5 paragraphs) targeted at young children using simple words. The story should be inspired from this text snippet: {}. The story should have the following features: - Science integration: embed basic science concepts within the story, explaining them through the characters' adventures and discoveries. - Characters and dialogue: create memorable characters who engage in meaningful conversations, helping to explain and explore the science concepts. - Unexpected twist: conclude with a twist that doesn't resolve as hoped, but leaves a clear lesson about life and science.\"\n",
    "response = generate_response_x(prompt, examples)\n",
    "print(response)"
   ]
  },
  {
   "cell_type": "code",
   "execution_count": null,
   "metadata": {},
   "outputs": [],
   "source": [
    "prompt = \"Write an educational story (3-5 paragraphs) targeted at young children using simple words. The story should be inspired from this text snippet: {}. The story should have the following features: - Science integration: embed basic science concepts within the story, explaining them through the characters' adventures and discoveries. - Characters and dialogue: create memorable characters who engage in meaningful conversations, helping to explain and explore the science concepts. - Unexpected twist: conclude with a twist that doesn't resolve as hoped, but leaves a clear lesson about life and science.\"\n",
    "\n",
    "def generate_response_0(prompt, max_new_tokens=100):\n",
    "    response = pipeline(prompt, max_new_tokens=max_new_tokens, num_return_sequences=1)\n",
    "    return response[0]['generated_text']\n",
    "\n",
    "print(generate_response_0(prompt))"
   ]
  },
  {
   "cell_type": "markdown",
   "metadata": {},
   "source": [
    "### MULTISHOT LEARNING: QUESTION PROMPTING"
   ]
  },
  {
   "cell_type": "code",
   "execution_count": null,
   "metadata": {},
   "outputs": [],
   "source": [
    "def generate_response_x(prompt, examples):\n",
    "    # Combine examples with the prompt\n",
    "    formatted_prompt = \"\".join([f\"{ex['input']}: {ex['output']}\\n\" for ex in examples]) + prompt\n",
    "    responses = pipeline(formatted_prompt, max_new_tokens=100, num_return_sequences=1)\n",
    "    return responses[0][\"generated_text\"]\n",
    "\n",
    "# Example usage. examples taken from https://huggingface.co/datasets/ajibawa-2023/Children-Stories-Collection\n",
    "examples = [\n",
    "    {\"input\": \"Write an educational story (3-5 paragraphs) targeted at young children using simple words. The story should be inspired from this text snippet: {}. The story should have the following features: - Science integration: embed basic science concepts within the story, explaining them through the characters' adventures and discoveries. - Characters and dialogue: create memorable characters who engage in meaningful conversations, helping to explain and explore the science concepts. - Unexpected twist: conclude with a twist that doesn't resolve as hoped, but leaves a clear lesson about life and science.\", \"output\": \"Once upon a time in the land of Policymia, there lived two leaders named Majora and Minoro. Their job was to make sure all the citizens had beautiful parks, clean water, and top-notch schools. But there were so many things to fix! How would they ever decide where to start? Majora, being the wise leader she was, knew just what to do. She invited her fellow policymakers for a big meeting at the Roundtable of Representatives. There, they discussed the most important problems Policymia faced. This was called identifying 'key policy areas.' It meant figuring out which topics needed attention first. Next came assessing support – finding out if everyone agreed on the solutions. Some people thought building more playgrounds was the way to go, while others wanted better libraries. To understand everyone's thoughts, Majora used something called 'polling.' Just like taking a vote, polling helped her see what ideas were popular among her friends (the majority) and also those across the aisle (people who didn't belong to her political group). While talking to her friends and colleagues, Majora discovered that almost everyone loved science! And why not? Science could help create amazing inventions, protect nature, and even cure sicknesses. So, the policymakers decided to build a super cool SCIENCE CENTER right at the heart of Policymia! But then, an unexpected problem popped up! A grumpy neighboring kingdom threatened to block Policymia's plans because they feared losing visitors to the new center. Oh no! However, instead of giving up, Majora saw this challenge as an opportunity. If they could work together with the grumpy neighbors, maybe both lands could benefit. That way, everybody wins, showing the true spirit of teamwork and collaboration in the world of policies!\"},\n",
    "    {\"input\": \"Write an educational story (3-5 paragraphs) targeted at young children using simple words. The story should be inspired from this text snippet: {}. The story should have the following features: - Science integration: embed basic science concepts within the story, explaining them through the characters' adventures and discoveries. - Characters and dialogue: create memorable characters who engage in meaningful conversations, helping to explain and explore the science concepts. - Unexpected twist: conclude with a twist that doesn't resolve as hoped, but leaves a clear lesson about life and science.\", \"output\": \"In the heart of Harmonyville, nestled between two neighboring countries, lay a magnificent bridge. Not only did it connect the land masses, but it also joined hearts and minds of folks living on either side. Let's call our beloved structure 'The Friendship Bridge'. One bright morning, Sarah from Sunnyhill and Maria from Starshine decided to explore this marvelous architectural feat. As they skipped along its vibrant pathway adorned with multicolored flags fluttering cheerily, Sarah asked, 'Maria, do you know how bridges stand strong despite all the cars going over them?' With a curious smile, Maria replied, 'Well, I think it has something to do with physics! Bridges use different types of forces like tension, compression, and torsion to balance themselves out.' Sarah gasped, 'Wow! That sounds complicated. But then again,' she pointed towards the distant mountains, 'those tall peaks must face greater force by wind and snow. Yet, they stand firm too!' As the day wore on, they reached the middle of the bridge where an information kiosk stood proudly. There, they learned about the various parts of the bridge – abutments, piers, deck, trusses...it seemed almost alive! Each part played a crucial role just like cells in our bodies. Just when things couldn't get any better, dark clouds rolled in unexpectedly. Rain began pouring down drenching everyone including Sarah and Maria. Their excitement turned into worry as they realized they might not make it back home before dark. Suddenly, the once familiar route appeared ominous under the stormy sky. Despite being scared, they remembered what they had learned earlier. Just like structures need balance and harmony, so does nature. So instead of panicking, they took deep breaths calming themselves down. After all, even amidst turmoil, understanding science can bring clarity and peace. And sometimes, facing adversities hand-in-hand brings forth stronger friendships.\"},\n",
    "]\n",
    "prompt = \"Write an educational story (3-5 paragraphs) targeted at young children using simple words. The story should be inspired from this text snippet: {}. The story should have the following features: - Science integration: embed basic science concepts within the story, explaining them through the characters' adventures and discoveries. - Characters and dialogue: create memorable characters who engage in meaningful conversations, helping to explain and explore the science concepts. - Unexpected twist: conclude with a twist that doesn't resolve as hoped, but leaves a clear lesson about life and science.\"\n",
    "response = generate_response_x(prompt, examples)\n",
    "print(response)"
   ]
  },
  {
   "cell_type": "markdown",
   "metadata": {},
   "source": [
    "### ZERO SHOT LEARNING: QUESTION PROMPTING"
   ]
  }
 ],
 "metadata": {
  "kernelspec": {
   "display_name": "openvino2",
   "language": "python",
   "name": "python3"
  },
  "language_info": {
   "codemirror_mode": {
    "name": "ipython",
    "version": 3
   },
   "file_extension": ".py",
   "mimetype": "text/x-python",
   "name": "python",
   "nbconvert_exporter": "python",
   "pygments_lexer": "ipython3",
   "version": "3.11.9"
  }
 },
 "nbformat": 4,
 "nbformat_minor": 2
}
