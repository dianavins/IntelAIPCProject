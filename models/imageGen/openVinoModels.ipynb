{
 "cells": [
  {
   "cell_type": "markdown",
   "metadata": {},
   "source": [
    "### OpenVINO/stable-diffusion-2-1-int8-quant-ov"
   ]
  },
  {
   "cell_type": "code",
   "execution_count": null,
   "metadata": {},
   "outputs": [],
   "source": [
    "from optimum.intel.openvino import OVStableDiffusionPipeline\n",
    "\n",
    "model_id = \"OpenVINO/stable-diffusion-2-1-int8-ov\"\n",
    "pipe = OVStableDiffusionPipeline.from_pretrained(model_id, compile=False)\n",
    "pipe.reshape(batch_size=1, height=512, width=512, num_images_per_prompt=1)\n",
    "pipe.compile()"
   ]
  },
  {
   "cell_type": "code",
   "execution_count": null,
   "metadata": {},
   "outputs": [],
   "source": [
    "prompt = \"sailing ship in storm by Rembrandt\"\n",
    "output = pipe(prompt, num_inference_steps=50, output_type=\"pil\")\n",
    "output.images[0].save(\"result1.png\")"
   ]
  },
  {
   "cell_type": "markdown",
   "metadata": {},
   "source": [
    "### OpenVINO/stable-diffusion-v1-5-int8-quant-ov"
   ]
  },
  {
   "cell_type": "code",
   "execution_count": 1,
   "metadata": {},
   "outputs": [
    {
     "data": {
      "application/vnd.jupyter.widget-view+json": {
       "model_id": "0f4c0ced2a044a829653bff1ff3a9d39",
       "version_major": 2,
       "version_minor": 0
      },
      "text/plain": [
       "Fetching 15 files:   0%|          | 0/15 [00:00<?, ?it/s]"
      ]
     },
     "metadata": {},
     "output_type": "display_data"
    },
    {
     "name": "stderr",
     "output_type": "stream",
     "text": [
      "Could not identify `in_channels` from the VAE encoder configuration, to statically reshape the VAE encoder please provide a configuration.\n",
      "Compiling the vae_decoder to CPU ...\n",
      "Compiling the unet to CPU ...\n",
      "Compiling the vae_encoder to CPU ...\n",
      "Compiling the text_encoder to CPU ...\n",
      "Could not identify `in_channels` from the VAE encoder configuration, to statically reshape the VAE encoder please provide a configuration.\n",
      "Compiling the vae_decoder to CPU ...\n",
      "Compiling the unet to CPU ...\n",
      "Compiling the vae_encoder to CPU ...\n",
      "Compiling the text_encoder to CPU ...\n"
     ]
    }
   ],
   "source": [
    "from optimum.intel.openvino import OVStableDiffusionPipeline\n",
    "\n",
    "model_id = \"OpenVINO/stable-diffusion-v1-5-int8-quant\"\n",
    "pipeline = OVStableDiffusionPipeline.from_pretrained(model_id)\n",
    "pipeline.reshape(batch_size=1, height=512, width=512, num_images_per_prompt=1)\n",
    "pipeline.compile()"
   ]
  },
  {
   "cell_type": "code",
   "execution_count": 2,
   "metadata": {},
   "outputs": [
    {
     "data": {
      "application/vnd.jupyter.widget-view+json": {
       "model_id": "67405836e6074848bf23406ab0322b57",
       "version_major": 2,
       "version_minor": 0
      },
      "text/plain": [
       "  0%|          | 0/51 [00:00<?, ?it/s]"
      ]
     },
     "metadata": {},
     "output_type": "display_data"
    }
   ],
   "source": [
    "prompt = \"plant pokemon in jungle\"\n",
    "output = pipeline(prompt, num_inference_steps=50, output_type=\"pil\")\n",
    "output.images[0].save(\"result2.png\")"
   ]
  }
 ],
 "metadata": {
  "kernelspec": {
   "display_name": "openvino2",
   "language": "python",
   "name": "python3"
  },
  "language_info": {
   "codemirror_mode": {
    "name": "ipython",
    "version": 3
   },
   "file_extension": ".py",
   "mimetype": "text/x-python",
   "name": "python",
   "nbconvert_exporter": "python",
   "pygments_lexer": "ipython3",
   "version": "3.11.9"
  }
 },
 "nbformat": 4,
 "nbformat_minor": 2
}
